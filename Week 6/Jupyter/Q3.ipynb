{
 "cells": [
  {
   "cell_type": "markdown",
   "metadata": {},
   "source": [
    "Before you turn this problem in, make sure everything runs as expected. First, **restart the kernel** (in the menubar, select Kernel$\\rightarrow$Restart) and then **run all cells** (in the menubar, select Cell$\\rightarrow$Run All).\n",
    "\n",
    "Make sure you fill in any place that says `YOUR CODE HERE` or \"YOUR ANSWER HERE\".\n",
    "\n",
    "Do not edit or insert code into the test cells as all you insert will be overwritten by the automated testing code."
   ]
  },
  {
   "cell_type": "markdown",
   "metadata": {},
   "source": [
    "---"
   ]
  },
  {
   "cell_type": "markdown",
   "metadata": {
    "deletable": false,
    "editable": false,
    "nbgrader": {
     "checksum": "8cb23b06fea416c6d8033a24596f97f3",
     "grade": false,
     "grade_id": "cell-5dfd850feec77f35",
     "locked": true,
     "schema_version": 1,
     "solution": false
    }
   },
   "source": [
    "**Question 3**: Change detection in time-series data is a highly active research area with many real world applications from raising alarms in general sensor applications to tracking of movement and fault detection. One of the simplest but well performing change detect methods is the online exponential filter, dating back to early radar applications (staring at a noisy radar screen when waiting for bombing raids to arrive can be quite depressing - better to have a machine do that more reliably).\n",
    "\n",
    "Change detection means the comparison of each incoming value to the previous value, see the detail and formula below. If that numerical comparison of the current value with the previous value exceeds a fixed threshold value then an alarm is raised (or the location is stored as in this exercise). This process can be implemented on a computer as a simple digital filter.\n",
    "\n",
    "The filter takes one data item after the other (online) as they arrive in time. The formula then is simply $$f_{i+1}=\\alpha{}\\,f_{i} + (1-\\alpha{})\\,x_{i+1},$$ where $f_{i+1}$ is the new filtered signal value at time $i+1$, $f_{i}$ is the previously filtered signal value and $x_{i+1}$ the current signal value. The factor $\\alpha$ is a gain factor or 'forgetfulness' factor, quantifying how much influence on the filter previous data values should have with values in the interval $0\\leq{}\\alpha\\leq{}1$. Small $\\alpha$ lead to hardly any smoothing and the filter will react on any change in the signal very sensitively while large $\\alpha$ should show a clear change but react little on noisy input.\n",
    "\n",
    "Take as the initial filtered value $f_{0}=x_{0}$, i.e. simply the first data value.\n",
    "\n",
    "**Task**: Create a function `expofilter(...)` which implements the change detect formula and a function `changeDetect(data, alpha, threshold)` which takes a NumPy array of values (could be sensor data in time for instance) the gain factor $\\alpha$ and a threshold value and returns \n",
    "\n",
    "**(a)** the full filter response, i.e. the array of change values (see below) and \n",
    "\n",
    "**(b)** all change detect data index values, i.e. at which location in the data stream did the filter detect change.\n",
    "\n",
    "The phrase 'change signal' or 'change values' shall be defined as the positive absolute difference of filtered value to previous filtered value, $\\triangle{}f=\\|(f_{i+1}-f_{i})\\|$. It is that absolute difference which is requird to become larger than the input threshold in order to raise an alarm (here, store the detection position).\n",
    "\n",
    "In your main program, run the `changeDetect()` function with random integer data `np.random.randint(-4,4,100)` where you introduce a big change manually at indices 50, 51 and 52 (short and sharp transient) by adding the value 20 to data values at those index positions. Check the change detection positions and **plot the full filter response with appropriate axes labels**. Clearly, the change detection should have as a first position the index 50. If not, change your gain factor and try again. A value of $\\alpha=0.9$ should work just fine. Threshold values larger or equal 1 seem to work fine."
   ]
  },
  {
   "cell_type": "code",
   "execution_count": null,
   "metadata": {
    "deletable": false,
    "nbgrader": {
     "checksum": "18da427239328a3df7494c4697d0a360",
     "grade": false,
     "grade_id": "Q3Code",
     "locked": false,
     "schema_version": 1,
     "solution": true
    }
   },
   "outputs": [],
   "source": [
    "# function expofilter() first, then function changeDetect(), then main script for plotting\n",
    "# YOUR CODE HERE"
   ]
  },
  {
   "cell_type": "code",
   "execution_count": null,
   "metadata": {
    "deletable": false,
    "editable": false,
    "nbgrader": {
     "checksum": "c94dab358eba23ebd9b0e1526cbd24ed",
     "grade": true,
     "grade_id": "Q3testA",
     "locked": true,
     "points": 2,
     "schema_version": 1,
     "solution": false
    }
   },
   "outputs": [],
   "source": [
    "# Test cell\n",
    "data = np.random.randint(-4,4,100)\n",
    "data[50] += 20\n",
    "data[51] += 20\n",
    "data[52] += 20\n",
    "bf1, bf2 = changeDetect(data, 0.85, 1.5)\n",
    "assert bf2[0]==50, 'wrong alarm start position'"
   ]
  },
  {
   "cell_type": "code",
   "execution_count": null,
   "metadata": {
    "deletable": false,
    "editable": false,
    "nbgrader": {
     "checksum": "99ffc4091c1472aa5d8064034777b3af",
     "grade": true,
     "grade_id": "Q3testB",
     "locked": true,
     "points": 1,
     "schema_version": 1,
     "solution": false
    }
   },
   "outputs": [],
   "source": [
    "# Test cell\n",
    "data[48] += 30\n",
    "bf1, bf2 = changeDetect(data, 0.87, 1.5)\n",
    "# check modified data\n",
    "assert (bf2[0]==48 and len(bf2)>1), 'fail on modified data'"
   ]
  },
  {
   "cell_type": "markdown",
   "metadata": {
    "deletable": false,
    "editable": false,
    "nbgrader": {
     "checksum": "beefcc566554dbfecc07770635735e91",
     "grade": false,
     "grade_id": "cell-812609c7793a8c5f",
     "locked": true,
     "schema_version": 1,
     "solution": false
    }
   },
   "source": [
    "### Tests - 3 marks; Style - 1 mark; Plot - 2 marks"
   ]
  }
 ],
 "metadata": {
  "kernelspec": {
   "display_name": "Python 3",
   "language": "python",
   "name": "python3"
  },
  "language_info": {
   "codemirror_mode": {
    "name": "ipython",
    "version": 3
   },
   "file_extension": ".py",
   "mimetype": "text/x-python",
   "name": "python",
   "nbconvert_exporter": "python",
   "pygments_lexer": "ipython3",
   "version": "3.6.8"
  }
 },
 "nbformat": 4,
 "nbformat_minor": 2
}
