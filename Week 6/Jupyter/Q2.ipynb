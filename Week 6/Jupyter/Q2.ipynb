{
 "cells": [
  {
   "cell_type": "markdown",
   "metadata": {},
   "source": [
    "Before you turn this problem in, make sure everything runs as expected. First, **restart the kernel** (in the menubar, select Kernel$\\rightarrow$Restart) and then **run all cells** (in the menubar, select Cell$\\rightarrow$Run All).\n",
    "\n",
    "Make sure you fill in any place that says `YOUR CODE HERE` or \"YOUR ANSWER HERE\".\n",
    "\n",
    "Do not edit or insert code into the test cells as all you insert will be overwritten by the automated testing code."
   ]
  },
  {
   "cell_type": "markdown",
   "metadata": {},
   "source": [
    "---"
   ]
  },
  {
   "cell_type": "markdown",
   "metadata": {
    "deletable": false,
    "editable": false,
    "nbgrader": {
     "checksum": "81c4d8880ed90376b0aa2a15a7cd6fe7",
     "grade": false,
     "grade_id": "cell-e7cab93dc7f3fd08",
     "locked": true,
     "schema_version": 1,
     "solution": false
    }
   },
   "source": [
    "**Question 2**: Consider a Fourier series approximation of a function with the Fourier series given as $$S(x,n) = \\frac{4}{\\pi} \\sum_{i=1}^{n}\\,\\frac{1}{2\\,i-1}\\,\\sin\\left(\\frac{(2\\,i-1)\\,2\\,\\pi\\,x}{T}\\right)$$ for a fixed range of values $x/T$, i.e. values in the interval `]0,1[`, with $T$ the function period and $n$ the order of approximation, i.e. how many terms in the Fourier series should be used.\n",
    "\n",
    "**Task**: Use `np.linspace(from, to, steps)` in order to create the $x/T$ values and plot all Fourier Series curves for the order parameters $n=(3, 10, 30)$ with appropriate axis labels and a title on a single figure. Also include a figure legend, describing your three curves. Observe how the Fourier series approximates the original step function better and better.\n",
    "\n",
    "Therefore, **(a)** write a function `fourier(values, order)` which takes the x values from above as first input and the order parameter as a second input. It should calculate the corresponding Fourier sum and return the array of Fourier values.\n",
    "\n",
    "Then **(b)** write a main program which creates the x values as described above and loops through the order parameters from above in order to plot the requested curves."
   ]
  },
  {
   "cell_type": "code",
   "execution_count": null,
   "metadata": {
    "deletable": false,
    "nbgrader": {
     "checksum": "026d33b77fd9f103abc4514f69393282",
     "grade": false,
     "grade_id": "Q2Code",
     "locked": false,
     "schema_version": 1,
     "solution": true
    }
   },
   "outputs": [],
   "source": [
    "# function first, then main script for plotting\n",
    "# YOUR CODE HERE"
   ]
  },
  {
   "cell_type": "code",
   "execution_count": null,
   "metadata": {
    "deletable": false,
    "editable": false,
    "nbgrader": {
     "checksum": "0b1930875e7290bee1c7fad962165699",
     "grade": true,
     "grade_id": "Q2testA",
     "locked": true,
     "points": 2,
     "schema_version": 1,
     "solution": false
    }
   },
   "outputs": [],
   "source": [
    "# Test cell\n",
    "xt = np.array([0.01,0.25, 0.6])\n",
    "# order test\n",
    "assert (fourier(xt, 3)[0]<fourier(xt, 10)[0])\n",
    "assert (fourier(xt, 3)[1]>fourier(xt, 10)[1])"
   ]
  },
  {
   "cell_type": "code",
   "execution_count": null,
   "metadata": {
    "deletable": false,
    "editable": false,
    "nbgrader": {
     "checksum": "620c8ed5d643a40144f5246c0dc7fda7",
     "grade": true,
     "grade_id": "Q2testB",
     "locked": true,
     "points": 1,
     "schema_version": 1,
     "solution": false
    }
   },
   "outputs": [],
   "source": [
    "# Test cell\n",
    "assert (fourier(xt, 3)[0]>0.22 and fourier(xt, 3)[0]<0.25)"
   ]
  },
  {
   "cell_type": "markdown",
   "metadata": {
    "deletable": false,
    "editable": false,
    "nbgrader": {
     "checksum": "0f4da2cd41926a14964b6f34c7b731ab",
     "grade": false,
     "grade_id": "cell-da65c56a881fd138",
     "locked": true,
     "schema_version": 1,
     "solution": false
    }
   },
   "source": [
    "### Tests - 3 marks; Style - 1 mark; Plot - 3 marks"
   ]
  }
 ],
 "metadata": {
  "kernelspec": {
   "display_name": "Python 3",
   "language": "python",
   "name": "python3"
  },
  "language_info": {
   "codemirror_mode": {
    "name": "ipython",
    "version": 3
   },
   "file_extension": ".py",
   "mimetype": "text/x-python",
   "name": "python",
   "nbconvert_exporter": "python",
   "pygments_lexer": "ipython3",
   "version": "3.6.6"
  }
 },
 "nbformat": 4,
 "nbformat_minor": 2
}
