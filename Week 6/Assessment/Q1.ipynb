{
 "cells": [
  {
   "cell_type": "markdown",
   "metadata": {},
   "source": [
    "Before you turn this problem in, make sure everything runs as expected. First, **restart the kernel** (in the menubar, select Kernel$\\rightarrow$Restart) and then **run all cells** (in the menubar, select Cell$\\rightarrow$Run All).\n",
    "\n",
    "Make sure you fill in any place that says `YOUR CODE HERE` or \"YOUR ANSWER HERE\".\n",
    "\n",
    "Do not edit or insert code into the test cells as all you insert will be overwritten by the automated testing code."
   ]
  },
  {
   "cell_type": "markdown",
   "metadata": {},
   "source": [
    "---"
   ]
  },
  {
   "cell_type": "markdown",
   "metadata": {
    "deletable": false,
    "editable": false,
    "nbgrader": {
     "checksum": "f2017df1d205144060a66f5ea040afe2",
     "grade": false,
     "grade_id": "cell-6afd059248794463",
     "locked": true,
     "schema_version": 1,
     "solution": false
    }
   },
   "source": [
    "**Question 1**: Fit the Higgs mass - given a `fitter(xvalues, data, init)` function below, write a function `fitfunc(...)` that describes the combined background and signal model to fit the data. Create two pictures: \n",
    "\n",
    "**(a)** plot the data with cross markers ('+' symbol) and the best fit curve as red line on the first plot and \n",
    "\n",
    "**(b)** draw the residuals with cross markers on the second plot where residuals are defined as the difference between best fit model and pure background model, see below.\n",
    "\n",
    "The fit function is composed of a background model with 3 parameters $$b(m)=A\\,\\exp{}\\left( b_{1}\\,(m - 105.5)+b_{2}\\,(m-105.5)^{2}\\right).$$ The signal is added to the background and its model is $$s(m) = \\frac{R}{\\sigma\\sqrt{2\\,\\pi}}\\,\\exp{}\\left(-\\frac{(m-\\mu{})^{2}}{2\\sigma^{2}}\\right),$$ featuring another 3 parameters for a total of six parameters to fit.\n",
    "\n",
    "A set of 6 initial values for the fit are given. You could draw the data and the initial values, inserted into your function, on the same plot and convince yourself that these are close to the best in order to check your function.\n",
    "\n",
    "The xvalues represent masses (in GeV units) of potential particles decaying into two photons in the ATLAS detector at CERN. Any peak would correspond to a real particle having decayed while a smooth background represents chance coincidences or simply noise. The peak to fit at a bit above 125 GeV led to the announcement of the discovery of the Higgs particle at CERN in 2012. The residuals plot subtracts the background model and let's the signal stand out very clearly. The data itself is read off a histogram (in counts) hence the xvalues really are bin centres at the mass values as indicated."
   ]
  },
  {
   "cell_type": "code",
   "execution_count": 1,
   "metadata": {
    "deletable": false,
    "nbgrader": {
     "checksum": "163d8461ea61719808e7eacc0d2003fd",
     "grade": false,
     "grade_id": "Q1CodeA",
     "locked": false,
     "schema_version": 1,
     "solution": true
    }
   },
   "outputs": [],
   "source": [
    "%matplotlib inline\n",
    "import numpy as np\n",
    "from scipy.optimize import curve_fit\n",
    "import matplotlib.pyplot as plt\n",
    "\n",
    "\n",
    "def background(xvalues, A, b1, b2):\n",
    "    \"\"\"Take input values and constants and generate background noise.\n",
    "\n",
    "    The equation used is 𝑏(𝑚)=𝐴exp(𝑏1(𝑚−105.5)+𝑏2(𝑚−105.5)^2).\n",
    "    Parameters:\n",
    "    -----------\n",
    "    xvalues: np.ndarray of the masses of potential particles decaying\n",
    "    into photons, bucketed into midpoints.\n",
    "\n",
    "    A: float constant used in background model.\n",
    "\n",
    "    b1: float constant used in background model.\n",
    "\n",
    "    b2: float constant used in background model.\n",
    "    Returns:\n",
    "    --------\n",
    "    background: np.ndarray - the xvalues transformed by the equation\n",
    "    above.\n",
    "    \"\"\"\n",
    "    return A * np.exp(b1 * (xvalues - 105.5) + b2 * (xvalues - 105.5) ** 2)\n",
    "\n",
    "\n",
    "def signal(xvalues, R, sigma, mu):\n",
    "    \"\"\"Take the input values and constants and generate signal data.\n",
    "\n",
    "    The equation used is 𝑠(𝑚)=𝑅/√(𝜎2𝜋) exp(−(𝑚−𝜇)^2/2𝜎^2).\n",
    "    Parameters:\n",
    "    -----------\n",
    "    xvalues: np.ndarray of the masses of potential particles decaying\n",
    "    into photons, bucketed into midpoints.\n",
    "\n",
    "    R: float constant used in the signal formula.\n",
    "\n",
    "    sigma: float constant used in the signal formula.\n",
    "\n",
    "    mu: float constant used in the signal formula.\n",
    "    Returns:\n",
    "    --------\n",
    "    signal: np.ndarray - the xvalues transformed by the above equation.\n",
    "    \"\"\"\n",
    "    return (\n",
    "      R\n",
    "      / (sigma * (2 * np.pi) ** 0.5)\n",
    "      * np.exp(-1 * (xvalues - mu) ** 2 / (2 * sigma ** 2))\n",
    "    )\n",
    "\n",
    "\n",
    "def fitfunc(xvalues, mu, sigma, R, A, b1, b2):\n",
    "    \"\"\"Take the input values and constants and\n",
    "    return the function to be fitted.\n",
    "\n",
    "    Parameters:\n",
    "    -----------\n",
    "    xvalues: np.ndarray of the masses of potential particles decaying\n",
    "    into photons, bucketed into midpoints.\n",
    "\n",
    "    mu: float constant used in the signal formula.\n",
    "    Returns:\n",
    "\n",
    "    sigma: float constant used in the signal formula.\n",
    "\n",
    "    R: float constant used in the signal formula.\n",
    "\n",
    "    A: float constant used in background model.\n",
    "\n",
    "    b1: float constant used in background model.\n",
    "\n",
    "    b2: float constant used in background model.\n",
    "    Returns:\n",
    "    --------\n",
    "    fitfunc: np.ndarray sum of results of background and\n",
    "    signal function calls.\n",
    "    See also:\n",
    "    ---------\n",
    "    background\n",
    "\n",
    "    signal\n",
    "    \"\"\"\n",
    "    return background(xvalues, A, b1, b2) + signal(xvalues, R, sigma, mu)\n",
    "\n",
    "\n",
    "def fitter(xval, yval, initial):\n",
    "    \"\"\"Find best fit for a given set of x and y data and initial data.\n",
    "    Parameters:\n",
    "    xval: np.ndarray the x values to use.\n",
    "\n",
    "    yval: np.ndarray the y values to use.\n",
    "\n",
    "    initial: tuple of constants to be used in fitfunc.\n",
    "        Constants:\n",
    "        0: mu\n",
    "        1: sigma\n",
    "        2: R\n",
    "        3: A\n",
    "        4: b1\n",
    "        5: b2\n",
    "    Returns:\n",
    "    --------\n",
    "    best: best_fit polynomial as according to curve_fit\n",
    "    See also:\n",
    "    ---------\n",
    "    fitfunc\n",
    "    \"\"\"\n",
    "    best, _ = curve_fit(fitfunc, xval, yval, p0=initial)\n",
    "    return best"
   ]
  },
  {
   "cell_type": "code",
   "execution_count": 2,
   "metadata": {
    "deletable": false,
    "nbgrader": {
     "checksum": "0d13b5683239ee8286e3d737691c0daa",
     "grade": false,
     "grade_id": "Q1CodeB",
     "locked": false,
     "schema_version": 1,
     "solution": true
    }
   },
   "outputs": [
    {
     "data": {
      "image/png": "[encoded data removed]",
      "text/plain": [
       "<Figure size 720x720 with 2 Axes>"
      ]
     },
     "metadata": {
      "needs_background": "light"
     },
     "output_type": "display_data"
    }
   ],
   "source": [
    "# start value parameter definitions, see equations for s(m) and b(m).\n",
    "# init[0] = mu\n",
    "# init[1] = sigma\n",
    "# init[2] = R\n",
    "# init[3] = A\n",
    "# init[4] = b1\n",
    "# init[5] = b2\n",
    "init = (125.8, 1.4, 470.0, 5000.0, -0.04, -1.5e-4)\n",
    "xvalues = np.arange(start=105.5, stop=160.5, step=1)\n",
    "data = np.array(\n",
    "  [\n",
    "    4780,\n",
    "    4440,\n",
    "    4205,\n",
    "    4150,\n",
    "    3920,\n",
    "    3890,\n",
    "    3590,\n",
    "    3460,\n",
    "    3300,\n",
    "    3200,\n",
    "    3000,\n",
    "    2950,\n",
    "    2830,\n",
    "    2700,\n",
    "    2620,\n",
    "    2610,\n",
    "    2510,\n",
    "    2280,\n",
    "    2330,\n",
    "    2345,\n",
    "    2300,\n",
    "    2190,\n",
    "    2080,\n",
    "    1990,\n",
    "    1840,\n",
    "    1830,\n",
    "    1730,\n",
    "    1680,\n",
    "    1620,\n",
    "    1600,\n",
    "    1540,\n",
    "    1505,\n",
    "    1450,\n",
    "    1410,\n",
    "    1380,\n",
    "    1380,\n",
    "    1250,\n",
    "    1230,\n",
    "    1220,\n",
    "    1110,\n",
    "    1110,\n",
    "    1080,\n",
    "    1055,\n",
    "    1050,\n",
    "    940,\n",
    "    920,\n",
    "    950,\n",
    "    880,\n",
    "    870,\n",
    "    850,\n",
    "    800,\n",
    "    820,\n",
    "    810,\n",
    "    770,\n",
    "    760,\n",
    "  ]\n",
    ")\n",
    "# create two subplots to fit both graphs on\n",
    "fig, (ax1, ax2) = plt.subplots(2, 1, figsize=(10, 10))\n",
    "\n",
    "# first create the graph of the raw data\n",
    "raw_line = ax1.plot(xvalues, data, \"+\", label=\"Data\")\n",
    "# use fitter to generate the curve of best fit and plot it\n",
    "best_init = fitter(xvalues, data, init)\n",
    "fitted_data = fitfunc(\n",
    "  xvalues,\n",
    "  best_init[0],\n",
    "  best_init[1],\n",
    "  best_init[2],\n",
    "  best_init[3],\n",
    "  best_init[4],\n",
    "  best_init[5],\n",
    ")\n",
    "fit_line = ax1.plot(xvalues, fitted_data, \"r\", label=\"Signal + Background\")\n",
    "# add axis labels, legend, background colour\n",
    "ax1.set_title(\"Question 1: Higgs Boson\")\n",
    "ax1.set_xlabel(\"Particle Mass/GeV\")\n",
    "ax2.set_xlabel(\"Particle Mass/GeV\")\n",
    "ax1.set_ylabel(\"Counts\")\n",
    "ax1.legend(numpoints=2)\n",
    "\n",
    "# on the second subplot plot the residuals\n",
    "residual = fitted_data - background(xvalues, best_init[3], best_init[4], best_init[5])\n",
    "residual_line = ax2.plot(xvalues, residual, \"+\", label=\"Signal (Residual)\")\n",
    "ax2.legend(numpoints=2)\n",
    "fig.show()\n",
    "fig.savefig(\"Q1out.png\", dpi=fig.dpi)\n"
   ]
  },
  {
   "cell_type": "code",
   "execution_count": 3,
   "metadata": {
    "deletable": false,
    "editable": false,
    "nbgrader": {
     "checksum": "668d0b7c46c41a0cc44c2c556f3fceeb",
     "grade": true,
     "grade_id": "Q1testA",
     "locked": true,
     "points": 1,
     "schema_version": 1,
     "solution": false
    }
   },
   "outputs": [],
   "source": [
    "# Test cell\n",
    "val = fitfunc(xvalues, init[0], init[1], init[2], init[3], init[4], init[5])\n",
    "assert val[1] > 4800 and val[1] < 4805, \"fitfunc wrong or initial values changed\""
   ]
  },
  {
   "cell_type": "code",
   "execution_count": 4,
   "metadata": {
    "deletable": false,
    "editable": false,
    "nbgrader": {
     "checksum": "671de141388de3893c2d65144d466cb9",
     "grade": true,
     "grade_id": "Q1testB",
     "locked": true,
     "points": 2,
     "schema_version": 1,
     "solution": false
    }
   },
   "outputs": [],
   "source": [
    "# Test cell\n",
    "bf = fitter(xvalues, data, init)\n",
    "assert bf[0] < 126.0 and bf[0] > 125.9, \"bad fit\"\n",
    "assert bf[1] < 1.55 and bf[1] > 1.5, \"bad fit\""
   ]
  },
  {
   "cell_type": "markdown",
   "metadata": {
    "deletable": false,
    "editable": false,
    "nbgrader": {
     "checksum": "fe6d5ae4a5f9919c1aa047d4c10e51d4",
     "grade": false,
     "grade_id": "cell-8022607b6d0c07f1",
     "locked": true,
     "schema_version": 1,
     "solution": false
    }
   },
   "source": [
    "### Tests - 3 marks; Style - 1 mark; Plots - 3 marks"
   ]
  }
 ],
 "metadata": {
  "kernelspec": {
   "display_name": "Python 3",
   "language": "python",
   "name": "python3"
  },
  "language_info": {
   "codemirror_mode": {
    "name": "ipython",
    "version": 3
   },
   "file_extension": ".py",
   "mimetype": "text/x-python",
   "name": "python",
   "nbconvert_exporter": "python",
   "pygments_lexer": "ipython3",
   "version": "3.6.8"
  }
 },
 "nbformat": 4,
 "nbformat_minor": 2
}
