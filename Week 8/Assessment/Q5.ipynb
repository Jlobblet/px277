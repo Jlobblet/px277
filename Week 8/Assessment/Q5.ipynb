{
 "cells": [
  {
   "cell_type": "markdown",
   "metadata": {},
   "source": [
    "Before you turn this problem in, make sure everything runs as expected. First, **restart the kernel** (in the menubar, select Kernel$\\rightarrow$Restart) and then **run all cells** (in the menubar, select Cell$\\rightarrow$Run All).\n",
    "\n",
    "Make sure you fill in any place that says `YOUR CODE HERE` or \"YOUR ANSWER HERE\".\n",
    "\n",
    "Do not edit or insert code into the test cells as all you insert will be overwritten by the automated testing code."
   ]
  },
  {
   "cell_type": "markdown",
   "metadata": {},
   "source": [
    "---"
   ]
  },
  {
   "cell_type": "markdown",
   "metadata": {
    "deletable": false,
    "editable": false,
    "nbgrader": {
     "checksum": "bf41f702cf20a2799f01c2f805b04a2d",
     "grade": false,
     "grade_id": "cell-00e22ce0e6e1999b",
     "locked": true,
     "schema_version": 1,
     "solution": false
    }
   },
   "source": [
    "**Question 5**: Consider measuring the viscosity of a liquid by timing how long it takes a solid sphere to fall a specific distance in the liquid. Calculate the viscosity according to $$\\mu=2\\,(\\rho_{S}-\\rho_{L})\\,\\frac{g\\,r^{2}\\,t}{9\\,l},$$ where $\\rho_{S}$ and $\\rho_{L}$ are the densities of the sphere and liquid respectively, $g=9.81$ms$^{-2}$ is the gravitational acceleration, $r$ the radius of the sphere, $l$ the length of the fall and $t$ the time it takes to fall the length $l$.\n",
    "\n",
    "**Calculation data and errors**: The density numbers will have errors to consider. For the sphere, the mass is given as $m_{S}=0.021$ kg with uncertainty of $5\\times10^{-4}$ kg and the radius is $0.01$ m with uncertainty of $5\\times10^{-4}$ m.\n",
    "\n",
    "For the liquid, the volume is given as $0.1$ m$^{3}$ with uncertainty of $5\\times10^{-4}$ m$^{3}$ and mass of $0.14$ kg and uncertainty of $5\\times10^{-4}$ kg.\n",
    "\n",
    "The fall distance is marked as $0.1$ m and uncertainty $5\\times10^{-4}$ m while the time measurement is taken as $3.2$ s with uncertainty $0.05$ s.\n",
    "\n",
    "All uncertainties are assumed to be Gaussian distributed and hence given as single standard deviation precision. All given measurement values are considered to be independent from each other.\n",
    "\n",
    "**Task**: Before purchasing equipment for this experiment and spending time and effort, you wish to check how precisely the viscosity can be determined in this case. Write a function `viscosity(err1, err2)` which calculates the array of viscosities according to the random error arrays `err1` and `err2` as input. \n",
    "\n",
    "**(a)** Write a Monte-Carlo simulation to find the distribution of viscosity measurements you could be taking if this experiment were to be performed. Simulate 1000 experiments, plot the viscosity distribution as a histogram with appropriate axes labels and print the mean and standard deviation.\n",
    "\n"
   ]
  },
  {
   "cell_type": "code",
   "execution_count": 1,
   "metadata": {
    "deletable": false,
    "nbgrader": {
     "checksum": "e02683f2697c7e393bea5a40d0fbc7ca",
     "grade": false,
     "grade_id": "Q5Code",
     "locked": false,
     "schema_version": 1,
     "solution": true
    }
   },
   "outputs": [
    {
     "name": "stdout",
     "output_type": "stream",
     "text": [
      "Mean: 35.04\n",
      "Standard Deviation: 1.27\n"
     ]
    },
    {
     "data": {
      "image/png": "[encoded data removed]",
      "text/plain": [
       "<Figure size 576x396 with 1 Axes>"
      ]
     },
     "metadata": {},
     "output_type": "display_data"
    }
   ],
   "source": [
    "%matplotlib inline\n",
    "import numpy as np\n",
    "import matplotlib.pyplot as plt\n",
    "from scipy.constants import g\n",
    "from scipy.signal import gaussian\n",
    "\n",
    "data = {\n",
    "    \"sphere_mass\": 2.1e-2,\n",
    "    \"sphere_radius\": 1e-2,\n",
    "    \"liquid_volume\": 1e-1,\n",
    "    \"liquid_mass\": 1.4e-1,\n",
    "    \"fall_distance\": 1e-1,\n",
    "    \"fall_time\": 3.2,\n",
    "}\n",
    "nsims = 1000\n",
    "err1_sd = 5e-4\n",
    "err2_sd = 5e-2\n",
    "\n",
    "\n",
    "def alter_values(err1, err2, special=None):\n",
    "    \"\"\"Adjust raw data by error arrays provided.\n",
    "    Parameters:\n",
    "    -----------\n",
    "    err1: numpy.ndarray or float or int - values\n",
    "    supplied to alter each of the following\n",
    "    measurements by:\n",
    "        sphere_mass\n",
    "        sphere_radius\n",
    "        liquid_volume\n",
    "        liquid_mass\n",
    "        fall_distance\n",
    "\n",
    "    err2: numpy.ndarray or float or int - values\n",
    "    supplied to alter each of the following\n",
    "    measurements by:\n",
    "        fall_time\n",
    "    \"\"\"\n",
    "    altered_data = dict(())\n",
    "    err1_fields = (\n",
    "        \"sphere_mass\",\n",
    "        \"sphere_radius\",\n",
    "        \"liquid_volume\",\n",
    "        \"liquid_mass\",\n",
    "        \"fall_distance\",\n",
    "    )\n",
    "    err2_fields = (\"fall_time\",)\n",
    "    for item in err1_fields:\n",
    "        altered_data[item] = data[item] + err1\n",
    "    for item in err2_fields:\n",
    "        altered_data[item] = data[item] + err2\n",
    "    return altered_data\n",
    "    \n",
    "\n",
    "def viscosity(err1, err2):\n",
    "    \"\"\"munge some data.\n",
    "    \"\"\"\n",
    "    rdata = alter_values(err1, err2)\n",
    "    sphere_density = rdata[\"sphere_mass\"] / (\n",
    "        4 / 3 * np.pi * rdata[\"sphere_radius\"] ** 3\n",
    "    )\n",
    "    liquid_density = rdata[\"liquid_mass\"] / rdata[\"liquid_volume\"]\n",
    "    liquid_viscosity = (\n",
    "        2\n",
    "        * (sphere_density - liquid_density)\n",
    "        * (g * rdata[\"sphere_radius\"] ** 2 * rdata[\"fall_time\"])\n",
    "        / (9 * rdata[\"fall_distance\"])\n",
    "    )\n",
    "    return liquid_viscosity\n",
    "\n",
    "\n",
    "err1 = np.random.normal(0, err1_sd, nsims)\n",
    "err2 = np.random.normal(0, err2_sd, nsims)\n",
    "\n",
    "plt.style.use(\"seaborn\")\n",
    "viscosity_array = viscosity(err1, err2)\n",
    "print(f\"Mean: {viscosity_array.mean():.2f}\\nStandard Deviation: {viscosity_array.std():.2f}\")\n",
    "fig, ax = plt.subplots()\n",
    "hist = ax.hist(viscosity_array, ec=\"w\")\n",
    "ax.set_xlabel(\"Viscosity / $Pa\\cdot s$\")\n",
    "ax.set_ylabel(\"Count\")\n",
    "ax.set_title(\"Viscosity Monte-Carlo\")\n",
    "plt.show()"
   ]
  },
  {
   "cell_type": "markdown",
   "metadata": {
    "deletable": false,
    "editable": false,
    "nbgrader": {
     "checksum": "36ac0932783e801c413b4775f75656b5",
     "grade": false,
     "grade_id": "cell-5fe25ef893777e9b",
     "locked": true,
     "schema_version": 1,
     "solution": false
    }
   },
   "source": [
    "**(b)** Determine by computer experiment (iterate: change parameter, run) how to improve the viscosity precision most effectively. Consider changing individual observable uncertainty scales, one by one by the same fraction, re-run the simulation and observe the effect such a change has on the viscosity distribution width. \n",
    "\n",
    "Which observable uncertainty reduced to a smaller value would have the biggest beneficial effect on viscosity measurements? Name the observable in the text box below. Hint: you should notice one stand-out candidate observable."
   ]
  },
  {
   "cell_type": "markdown",
   "metadata": {
    "deletable": false,
    "nbgrader": {
     "checksum": "f1adcaf43cd16633d62f82230b1118d5",
     "grade": true,
     "grade_id": "Q5Reply",
     "locked": false,
     "points": 1,
     "schema_version": 1,
     "solution": true
    }
   },
   "source": [
    "**Sphere radius.**"
   ]
  },
  {
   "cell_type": "code",
   "execution_count": 2,
   "metadata": {
    "deletable": false,
    "editable": false,
    "nbgrader": {
     "checksum": "9c66176fd83ae782317507c5145ba459",
     "grade": true,
     "grade_id": "Q5TestA",
     "locked": true,
     "points": 1,
     "schema_version": 1,
     "solution": false
    }
   },
   "outputs": [],
   "source": [
    "# Test cell\n",
    "mu0 = viscosity(0.0, 0.0)\n",
    "assert mu0 > 34.9 and mu0 < 35.0"
   ]
  },
  {
   "cell_type": "code",
   "execution_count": 3,
   "metadata": {
    "deletable": false,
    "editable": false,
    "nbgrader": {
     "checksum": "11b98fabefb12d84bebb75c33393ba63",
     "grade": true,
     "grade_id": "Q5TestB",
     "locked": true,
     "points": 2,
     "schema_version": 1,
     "solution": false
    }
   },
   "outputs": [],
   "source": [
    "# Test cell\n",
    "err1 = np.random.normal(0.0, 0.0005, 1000)\n",
    "err2 = np.random.normal(0.0, 0.05, 1000)\n",
    "mu = viscosity(err1, err2)\n",
    "assert np.mean(mu) > 34.8 and np.mean(mu) < 35.2\n",
    "assert np.std(mu) > 1.1 and np.std(mu) < 1.3"
   ]
  },
  {
   "cell_type": "markdown",
   "metadata": {
    "deletable": false,
    "editable": false,
    "nbgrader": {
     "checksum": "74676b93936b1486ed80e15482d2db75",
     "grade": false,
     "grade_id": "cell-9d5ae8c63a99cfc6",
     "locked": true,
     "schema_version": 1,
     "solution": false
    }
   },
   "source": [
    "### Tests - 4 marks; Style - 1 mark; Plot - 2 marks"
   ]
  }
 ],
 "metadata": {
  "kernelspec": {
   "display_name": "Python 3",
   "language": "python",
   "name": "python3"
  },
  "language_info": {
   "codemirror_mode": {
    "name": "ipython",
    "version": 3
   },
   "file_extension": ".py",
   "mimetype": "text/x-python",
   "name": "python",
   "nbconvert_exporter": "python",
   "pygments_lexer": "ipython3",
   "version": "3.6.9"
  }
 },
 "nbformat": 4,
 "nbformat_minor": 2
}
