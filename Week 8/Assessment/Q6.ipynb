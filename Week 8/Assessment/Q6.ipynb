{
 "cells": [
  {
   "cell_type": "markdown",
   "metadata": {},
   "source": [
    "Before you turn this problem in, make sure everything runs as expected. First, **restart the kernel** (in the menubar, select Kernel$\\rightarrow$Restart) and then **run all cells** (in the menubar, select Cell$\\rightarrow$Run All).\n",
    "\n",
    "Make sure you fill in any place that says `YOUR CODE HERE` or \"YOUR ANSWER HERE\".\n",
    "\n",
    "Do not edit or insert code into the test cells as all you insert will be overwritten by the automated testing code."
   ]
  },
  {
   "cell_type": "markdown",
   "metadata": {},
   "source": [
    "---"
   ]
  },
  {
   "cell_type": "markdown",
   "metadata": {
    "deletable": false,
    "editable": false,
    "nbgrader": {
     "checksum": "de2472b70d8735ae5070e7706d287f21",
     "grade": false,
     "grade_id": "cell-0a1d6cc6c5df1815",
     "locked": true,
     "schema_version": 1,
     "solution": false
    }
   },
   "source": [
    "**Question 6**: The Maxwell (or Maxwell-Boltzmann) distribution gives the distribution of speeds of molecules in thermal equilibrium as given by statistical mechanics. The distribution function is given as $$p(v)=\\sqrt{\\frac{2}{\\pi}}\\,\\frac{v^{2}\\,\\exp\\left(-\\frac{v^{2}}{2\\,a^{2}}\\right)}{a^{3}}$$ with speed $v$ and $$a=\\sqrt{\\frac{k\\,T}{m}}$$ and $k$ the Boltzmann constant, $T$ the temperature and $m$ the atomic mass of the molecules. \n",
    "\n",
    "Consider the SciPy function `scipy.stats.maxwell` which permits to draw random speed values from a Maxwell distribution. Given a value for the parameter $a$, the speed distribution can be used as `sample = maxwell.rvs(scale=a, size=1000)` to obtain a thousand random speeds from the Maxwell distribution with the correct temperature and molecule mass. Use the `scipy.constants` library to define the molecule mass in atomic mass units in kg and obtain the correct Boltzmann constant. Use SI units throughout.\n",
    "\n",
    "**Task**: **(a)** Write a function `samples(T1, T2, mass)` which draws two samples of 1000 random speed values each from the Maxwell distribution with temperatures $T_{1}$ and $T_{2}$ and atomic mass in units of kg as input. \n",
    "\n",
    "The first sample should represent Helium gas molecule speeds at room temperature ($T_{1}=300\\,$K), the second cold Helium liquid at $T_{2}=4\\,$K. Use the `scipy.constants` library to define the Helium molecule mass at 4 atomic mass units in kg.\n",
    "\n",
    "**(b)** Write a function `doCollision(ncoll, sample1, sample2)` which takes the number of simulated collisions as input as well as the two prepared samples. For each collision simulation create a random pair from members of both samples and determine the absolute **energy** difference. Add half the energy difference to the slower molecule and subtract half the energy difference from the faster molecule so that in the end both have the same energy. Then obtain the speed of the individual molecules from their energy and change it in the speed sample array accordingly for both and collide the next pair.\n",
    "\n",
    "Simulate $10^{4}$ collisions between the hot and cold Helium. Merge the distributions into one and print the final temperature value, calculated from the final mean value. The mean value of the Maxwell distribution in the notation from above is given as $$\\mu=2\\,a\\,\\sqrt{\\frac{2}{\\pi}}.$$ Plot the merged speed distribution histogram (20 bins are recommended) with appropriate axes labels and title."
   ]
  },
  {
   "cell_type": "code",
   "execution_count": 1,
   "metadata": {
    "ExecuteTime": {
     "end_time": "2019-12-01T02:13:28.532984Z",
     "start_time": "2019-12-01T02:13:26.982510Z"
    },
    "deletable": false,
    "nbgrader": {
     "checksum": "18d4a98dec8706fa074742720feecdfc",
     "grade": false,
     "grade_id": "Q6Code",
     "locked": false,
     "schema_version": 1,
     "solution": true
    }
   },
   "outputs": [
    {
     "data": {
      "image/png": "[encoded data removed]",
      "text/plain": [
       "<Figure size 576x396 with 1 Axes>"
      ]
     },
     "metadata": {},
     "output_type": "display_data"
    }
   ],
   "source": [
    "%matplotlib inline\n",
    "import numpy as np\n",
    "import matplotlib.pyplot as plt\n",
    "from scipy.stats import maxwell\n",
    "import scipy.constants as const\n",
    "\n",
    "T1 = 300\n",
    "T2 = 4\n",
    "mass = 4 * const.u\n",
    "ncoll = 10000\n",
    "\n",
    "\n",
    "def maxwell_sample(temperature, mass, size):\n",
    "    \"\"\"Create random speeds for particles at a given temperature.\n",
    "    Parameters:\n",
    "    -----------\n",
    "    temperature: positive float to use to generate the scale value for\n",
    "    the Maxwell distribution.\n",
    "\n",
    "    mass: float mass of the particles to be considered to calculate\n",
    "    energy with.\n",
    "\n",
    "    size: int number of samples to generate.\n",
    "    Returns:\n",
    "    --------\n",
    "    sample: np.ndarray containing the numbers generated.\n",
    "    See also:\n",
    "    ---------\n",
    "    scipy.stats.maxwell\n",
    "    \"\"\"\n",
    "    scale = np.sqrt(const.k * temperature / mass)\n",
    "    return maxwell.rvs(scale=scale, size=size)\n",
    "\n",
    "\n",
    "def samples(T1, T2, mass, size=1000):\n",
    "    \"\"\"Create random speeds for particles at two temperatures.\n",
    "\n",
    "    Wrapper for the maxwell_sample function that just calls it twice.\n",
    "    Parameters:\n",
    "    -----------\n",
    "    T1: the temperature of the first sample to generate.\n",
    "\n",
    "    T2: the temperature of the second sample to generate.\n",
    "\n",
    "    mass: the mass of the particles to be used in both samples.\n",
    "\n",
    "    size: int number of samples to generate.\n",
    "    Returns:\n",
    "    --------\n",
    "    sample1, sample2:\n",
    "    See also:\n",
    "    ---------\n",
    "    maxwell_sample\n",
    "    \"\"\"\n",
    "    return (maxwell_sample(T1, mass, size),\n",
    "            maxwell_sample(T2, mass, size))\n",
    "\n",
    "\n",
    "def doCollision(ncoll, sample1, sample2):\n",
    "    \"\"\"Simulate ncoll random collisions between particles.\n",
    "\n",
    "    ncoll collisions between a random particle from sample1 and a\n",
    "    random particle from sample2 are calculated, where the particles'\n",
    "    energy after the collision is set to be the mean value of both of\n",
    "    their energies, then reinserted into its sample.\n",
    "    Parameters:\n",
    "    -----------\n",
    "    ncoll: int number of collisions to simulate.\n",
    "\n",
    "    sample1, sample2: equal size np.ndarray containg the velocities of\n",
    "    particles to collide, nominally generated from maxwell_sample.\n",
    "    Returns:\n",
    "    --------\n",
    "    sample1, sample2: the arrays after ncoll collisions have been\n",
    "    simulated.\n",
    "    See also:\n",
    "    ---------\n",
    "    maxwell_sample\n",
    "    \"\"\"\n",
    "    for _ in range(ncoll):\n",
    "        pos1 = np.random.randint(0, len(sample1))\n",
    "        pos2 = np.random.randint(0, len(sample2))\n",
    "        v1 = sample1[pos1]\n",
    "        v2 = sample2[pos2]\n",
    "        energy1 = mass * v1 ** 2 / 2\n",
    "        energy2 = mass * v2 ** 2 / 2\n",
    "        avg = np.mean((energy1, energy2))\n",
    "        energy1, energy2 = [avg] * 2\n",
    "        v1 = np.sqrt(2 * energy1 / mass)\n",
    "        v2 = v1\n",
    "        sample1[pos1] = v1\n",
    "        sample2[pos2] = v2\n",
    "    return sample1, sample2\n",
    "\n",
    "\n",
    "sample1, sample2 = samples(T1, T2, mass)\n",
    "coll1, coll2 = doCollision(ncoll, sample1, sample2)\n",
    "merged = np.append(coll1, coll2)\n",
    "T3 = (const.pi * mass * merged.mean() ** 2) / (8 * const.k)\n",
    "\n",
    "plt.style.use(\"seaborn\")\n",
    "fig, ax = plt.subplots()\n",
    "ax.set_title(\n",
    "    f\"\"\"\n",
    "    Question 6: {ncoll} Simulated Collisions\n",
    "    Between Helium Atoms at ${T1}K$ and ${T2}K$\n",
    "    \"\"\"\n",
    ")\n",
    "kwargs = {\"bins\": 20, \"ec\": \"white\", \"label\": f\"$T_3 = {T3:.2f}K$\",}\n",
    "ax.hist(merged, **kwargs)\n",
    "ax.set_ylabel(\"Count\")\n",
    "ax.set_xlabel(\"Speed / $ms^{-1}$\")\n",
    "ax.legend()\n",
    "\n",
    "plt.show()"
   ]
  },
  {
   "cell_type": "code",
   "execution_count": 2,
   "metadata": {
    "ExecuteTime": {
     "end_time": "2019-12-01T02:13:28.543214Z",
     "start_time": "2019-12-01T02:13:28.537825Z"
    },
    "deletable": false,
    "editable": false,
    "nbgrader": {
     "checksum": "2442636fcaa5216ebfb9eb51cc2233de",
     "grade": true,
     "grade_id": "Q6TestA",
     "locked": true,
     "points": 1,
     "schema_version": 1,
     "solution": false
    }
   },
   "outputs": [],
   "source": [
    "# Test cell\n",
    "import scipy.constants as pc\n",
    "\n",
    "m = 4.0 * pc.u\n",
    "wh, ch = samples(300, 4, m)\n",
    "assert len(wh) == 1000, \"wrong sample size\""
   ]
  },
  {
   "cell_type": "code",
   "execution_count": 3,
   "metadata": {
    "ExecuteTime": {
     "end_time": "2019-12-01T02:13:28.555517Z",
     "start_time": "2019-12-01T02:13:28.548316Z"
    },
    "deletable": false,
    "editable": false,
    "nbgrader": {
     "checksum": "40ea08fc0a28bb3874cb9d8cd7a10203",
     "grade": true,
     "grade_id": "Q6TestB",
     "locked": true,
     "points": 2,
     "schema_version": 1,
     "solution": false
    }
   },
   "outputs": [],
   "source": [
    "# Test cell\n",
    "assert (\n",
    "    np.mean(wh) > 1200.0 and np.mean(wh) < 1300.0\n",
    "), \"wrong room temperature helium distribution\"\n",
    "assert (\n",
    "    np.mean(ch) > 130.0 and np.mean(ch) < 150.0\n",
    "), \"wrong cold temperature helium distribution\""
   ]
  },
  {
   "cell_type": "markdown",
   "metadata": {
    "deletable": false,
    "editable": false,
    "nbgrader": {
     "checksum": "5e532da1bea1ae6ef3d4b1582e54d3d9",
     "grade": false,
     "grade_id": "cell-a1d21a0b40415b41",
     "locked": true,
     "schema_version": 1,
     "solution": false
    }
   },
   "source": [
    "### Tests 3 marks; Style 1 mark; Plot - 2 marks"
   ]
  }
 ],
 "metadata": {
  "kernelspec": {
   "display_name": "Python 3",
   "language": "python",
   "name": "python3"
  },
  "language_info": {
   "codemirror_mode": {
    "name": "ipython",
    "version": 3
   },
   "file_extension": ".py",
   "mimetype": "text/x-python",
   "name": "python",
   "nbconvert_exporter": "python",
   "pygments_lexer": "ipython3",
   "version": "3.6.9"
  },
  "varInspector": {
   "cols": {
    "lenName": 16,
    "lenType": 16,
    "lenVar": 40
   },
   "kernels_config": {
    "python": {
     "delete_cmd_postfix": "",
     "delete_cmd_prefix": "del ",
     "library": "var_list.py",
     "varRefreshCmd": "print(var_dic_list())"
    },
    "r": {
     "delete_cmd_postfix": ") ",
     "delete_cmd_prefix": "rm(",
     "library": "var_list.r",
     "varRefreshCmd": "cat(var_dic_list()) "
    }
   },
   "types_to_exclude": [
    "module",
    "function",
    "builtin_function_or_method",
    "instance",
    "_Feature"
   ],
   "window_display": false
  }
 },
 "nbformat": 4,
 "nbformat_minor": 2
}
