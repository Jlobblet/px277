{
 "cells": [
  {
   "cell_type": "markdown",
   "metadata": {},
   "source": [
    "Before you turn this problem in, make sure everything runs as expected. First, **restart the kernel** (in the menubar, select Kernel$\\rightarrow$Restart) and then **run all cells** (in the menubar, select Cell$\\rightarrow$Run All).\n",
    "\n",
    "Make sure you fill in any place that says `YOUR CODE HERE` or \"YOUR ANSWER HERE\".\n",
    "\n",
    "Do not edit or insert code into the test cells as all you insert will be overwritten by the automated testing code."
   ]
  },
  {
   "cell_type": "markdown",
   "metadata": {},
   "source": [
    "---"
   ]
  },
  {
   "cell_type": "markdown",
   "metadata": {
    "deletable": false,
    "editable": false,
    "nbgrader": {
     "checksum": "0b8f734be554cdf2505259242936ee45",
     "grade": false,
     "grade_id": "cell-4027804ef817e686",
     "locked": true,
     "schema_version": 1,
     "solution": false
    }
   },
   "source": [
    "**Question 4**: Calculate the volume of the unit hypersphere (radius $=1$, centred at the origin) in $n$ dimensions. \n",
    "\n",
    "Draw N uniform random number arrays of size $n$ from the interval `[0,1]` for the $n$ coordinates. Count the number $M$ of hypersphere hits, i.e. coordinates passing the distance condition $$d=\\sqrt{\\sum_{i=0}^{n-1}\\,x_{i}^{2}}\\leq{}1.$$ Calculate and return the hyper-volume which is $2^{n}$ times the fraction $M/N$.\n",
    "\n",
    "**Task**: Write a function `hvolume(ndim, nsim)` which takes the number of dimensions as first input and the number of Monte-Carlo attempts as the second argument. Return the calculated hyper-volume. Plot the hyper-volume values as a function of dimensions for dimensions in the interval `[3, 10]`. Hint: High dimensional spaces are difficult to sample by points hence consider a large $>10^{4}$ number of simulations before results stabilize."
   ]
  },
  {
   "cell_type": "code",
   "execution_count": 1,
   "metadata": {
    "ExecuteTime": {
     "end_time": "2019-12-01T01:57:17.808481Z",
     "start_time": "2019-12-01T01:57:10.360949Z"
    },
    "deletable": false,
    "nbgrader": {
     "checksum": "d7ecb76cc0b2dc77eb178781a2a5847c",
     "grade": false,
     "grade_id": "Q4Code",
     "locked": false,
     "schema_version": 1,
     "solution": true
    }
   },
   "outputs": [
    {
     "data": {
      "image/png": "[encoded data removed]",
      "text/plain": [
       "<Figure size 576x396 with 1 Axes>"
      ]
     },
     "metadata": {},
     "output_type": "display_data"
    }
   ],
   "source": [
    "%matplotlib inline\n",
    "import numpy as np\n",
    "import matplotlib.pyplot as plt\n",
    "\n",
    "\n",
    "def hvolume(ndim, nsim=100000):\n",
    "    \"\"\"Calculate the hypervolume of an n-ball with radius 1.\n",
    "\n",
    "    Hypervolume is defined by the root of the sum of square distances.\n",
    "    The hypervolume is calculated by generating nsim random points in an\n",
    "    n-cube, and then determining whether each lies in the n-ball or not.\n",
    "    Parameters:\n",
    "    -----------\n",
    "    ndim: int number of dimensions to calculate for.\n",
    "\n",
    "    nsim: the number of random points to generate for calculating\n",
    "    hypervolume.\n",
    "    Returns:\n",
    "    --------\n",
    "    hypervolume: float hypervolume calculated.\n",
    "    \"\"\"\n",
    "    return (\n",
    "      2 ** ndim\n",
    "      * sum(\n",
    "        [\n",
    "          1\n",
    "          for _ in range(nsim)\n",
    "          if np.linalg.norm(np.random.random(ndim)) <= 1\n",
    "        ]\n",
    "      )\n",
    "      / nsim\n",
    "    )\n",
    "\n",
    "\n",
    "lower_dim = 3\n",
    "upper_dim = 10\n",
    "\n",
    "plt.style.use(\"seaborn\")\n",
    "xvalues = np.arange(lower_dim, upper_dim + 1)\n",
    "yvalues = np.vectorize(hvolume)(xvalues)\n",
    "fig, ax = plt.subplots()\n",
    "ax.plot(xvalues, yvalues, label=\"Volume\")\n",
    "ax.xaxis.set_ticks(xvalues)\n",
    "ax.set_xlabel(\"Dimensions\")\n",
    "ax.set_ylabel(\"Volume\")\n",
    "ax.set_title(\"Question 4: Volume of an n-ball\")\n",
    "plt.show()"
   ]
  },
  {
   "cell_type": "code",
   "execution_count": 2,
   "metadata": {
    "deletable": false,
    "editable": false,
    "nbgrader": {
     "checksum": "b82bb051e690eaa9d85b68d10790f458",
     "grade": true,
     "grade_id": "Q4TestA",
     "locked": true,
     "points": 2,
     "schema_version": 1,
     "solution": false
    }
   },
   "outputs": [],
   "source": [
    "# Test cell\n",
    "v1 = hvolume(4, 20000)\n",
    "v2 = hvolume(9, 20000)\n",
    "assert v1 > v2, \"wrong volume comparison\""
   ]
  },
  {
   "cell_type": "code",
   "execution_count": 3,
   "metadata": {
    "deletable": false,
    "editable": false,
    "nbgrader": {
     "checksum": "ac51ec9fa4d5945ef616c7d6bcdc953c",
     "grade": true,
     "grade_id": "Q4TestB",
     "locked": true,
     "points": 2,
     "schema_version": 1,
     "solution": false
    }
   },
   "outputs": [],
   "source": [
    "# Test cell\n",
    "assert v1 > 4.8 and v1 < 5.1, \"wrong 4D volume value\""
   ]
  },
  {
   "cell_type": "markdown",
   "metadata": {
    "deletable": false,
    "editable": false,
    "nbgrader": {
     "checksum": "0679d5f5edd8c6209ec9ced842f0c279",
     "grade": false,
     "grade_id": "cell-7be3e0e28986bb52",
     "locked": true,
     "schema_version": 1,
     "solution": false
    }
   },
   "source": [
    "### Tests - 4 marks; Style - 1 mark; Plot - 2 marks"
   ]
  }
 ],
 "metadata": {
  "kernelspec": {
   "display_name": "Python 3",
   "language": "python",
   "name": "python3"
  },
  "language_info": {
   "codemirror_mode": {
    "name": "ipython",
    "version": 3
   },
   "file_extension": ".py",
   "mimetype": "text/x-python",
   "name": "python",
   "nbconvert_exporter": "python",
   "pygments_lexer": "ipython3",
   "version": "3.6.9"
  },
  "varInspector": {
   "cols": {
    "lenName": 16,
    "lenType": 16,
    "lenVar": 40
   },
   "kernels_config": {
    "python": {
     "delete_cmd_postfix": "",
     "delete_cmd_prefix": "del ",
     "library": "var_list.py",
     "varRefreshCmd": "print(var_dic_list())"
    },
    "r": {
     "delete_cmd_postfix": ") ",
     "delete_cmd_prefix": "rm(",
     "library": "var_list.r",
     "varRefreshCmd": "cat(var_dic_list()) "
    }
   },
   "types_to_exclude": [
    "module",
    "function",
    "builtin_function_or_method",
    "instance",
    "_Feature"
   ],
   "window_display": false
  }
 },
 "nbformat": 4,
 "nbformat_minor": 2
}
