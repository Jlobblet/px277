{
 "cells": [
  {
   "cell_type": "markdown",
   "metadata": {},
   "source": [
    "### Dark Matter detector pulse example from script"
   ]
  },
  {
   "cell_type": "code",
   "execution_count": 1,
   "metadata": {},
   "outputs": [],
   "source": [
    "import math\n",
    "import numpy as np\n",
    "import matplotlib.pyplot as plt\n",
    "from scipy.optimize import curve_fit"
   ]
  },
  {
   "cell_type": "markdown",
   "metadata": {},
   "source": [
    "Have the pulse model function first."
   ]
  },
  {
   "cell_type": "code",
   "execution_count": null,
   "metadata": {
    "collapsed": true
   },
   "outputs": [],
   "source": [
    "def pulse(t, scale, onset, baseline, ratio, taurise, taushort, taulong):\n",
    "    \"\"\"Pulse model function to work with numpy.\"\"\"\n",
    "    denominator = ratio + 1\n",
    "    temp1  = ratio / (denominator) * np.exp(-(t - onset) / taushort)\n",
    "    temp2  = 1.0 / (denominator) * np.exp(-(t - onset) / taulong)\n",
    "    decay = temp1 + temp2\n",
    "    pulse = scale * (np.exp(-(t - onset) / taurise) - decay) + baseline\n",
    "    pulse[np.where(t < onset)] = 0.0 # not defined before onset time, set 0\n",
    "    return pulse"
   ]
  },
  {
   "cell_type": "markdown",
   "metadata": {},
   "source": [
    "which is nothing else than putting $$V(t) = A\\,\\left[\\exp\\left( -\\frac{t-t_{o}}{\\tau_{rise}}\\right) - \\left(\\frac{R}{R+1}\\,\\exp\\left( -\\frac{t-t_{o}}{\\tau_{short}}\\right) + \\frac{1}{R+1}\\,\\exp\\left( -\\frac{t-t_{o}}{\\tau_{long}}\\right)\\right)\\right]+B$$ into code.\n",
    "\n",
    "Some pretty plotting function might also help to keep the script free of clutter for this section."
   ]
  },
  {
   "cell_type": "code",
   "execution_count": null,
   "metadata": {
    "collapsed": true
   },
   "outputs": [],
   "source": [
    "def plotpulse(xval,yval):\n",
    "    \"\"\"Plot with insert, full pulse and fast component separately.\"\"\"\n",
    "    fig = plt.figure()\n",
    "    axis1 = fig.add_axes([0.12, 0.1, 0.85, 0.85]) # main axes\n",
    "    axis2 = fig.add_axes([0.54, 0.25, 0.35, 0.3]) # inset axes\n",
    "    axis1.plot(xval, yval, \"r-\")\n",
    "    axis1.set_title(\"Dark Matter detector pulse\", size=12)\n",
    "    axis1.set_xlabel(\"Time [ns]\", size=12)\n",
    "    axis1.set_ylabel(\"Bias [mV]\", size=12)\n",
    "    \n",
    "    axis2.plot(xval[:80], yval[:80], \"b-\") # zoom in to 40 ns maximum\n",
    "    axis2.set_title(\"Fast pulse component\", size=12)\n",
    "    axis2.set_xlabel(\"Time [ns]\", size=12)\n",
    "    axis2.set_ylabel(\"Bias [mV]\", size=12)\n",
    "    plt.show()\n",
    "    return"
   ]
  },
  {
   "cell_type": "markdown",
   "metadata": {},
   "source": [
    "Time to make a script and use what we got."
   ]
  },
  {
   "cell_type": "code",
   "execution_count": null,
   "metadata": {},
   "outputs": [],
   "source": [
    "# make a pulse, consider times in nano seconds [ns]\n",
    "timevalues = np.linspace(0, 1000, 2001) # 0.5 unit step size\n",
    "taurise = 1.0     # fast sensor rise time\n",
    "taushort = 6.0    # realistic short decay time for Xenon\n",
    "taulong = 1500.0  # realistic decay time for Xenon 1500 ns\n",
    "scale = 210.0  # some scale factor giving reasonable values\n",
    "onset = 4.0    # start on step 4, here 2 ns in the sample\n",
    "baseline = 0.0 # no baseline offset\n",
    "ratio = 2.2    # more in short intensity than long\n",
    "pp = pulse(timevalues, scale, onset, baseline, ratio, taurise, taushort, taulong)\n",
    "\n",
    "plotpulse(timevalues, pp)"
   ]
  },
  {
   "cell_type": "markdown",
   "metadata": {},
   "source": [
    "Try to fit the pulse model to the data. Difficult fit with many parameters, hence try to be as close as possible with the starting values."
   ]
  },
  {
   "cell_type": "code",
   "execution_count": null,
   "metadata": {},
   "outputs": [],
   "source": [
    "initguess = (20.0, 4.0, 0.0, 2.0, 1.0, 5.0, 1000.0)\n",
    "fitParams, fitCovariances = curve_fit(pulse, timevalues, pp, p0 = initguess)\n",
    "print(fitParams)"
   ]
  },
  {
   "cell_type": "markdown",
   "metadata": {},
   "source": [
    "Works Ok, next step: make it noisy, change the ratio parameter (for dark matter to background pulse changes)."
   ]
  },
  {
   "cell_type": "code",
   "execution_count": null,
   "metadata": {},
   "outputs": [],
   "source": [
    "initguess = (200.0, 4.0, 0.0, 2.0, 1.0, 5.0, 1000.0)\n",
    "newp = pp + 0.05 * pp * np.random.normal(size=len(pp))\n",
    "fP, fitCovariances = curve_fit(pulse, timevalues, newp, p0 = initguess)\n",
    "print(fP)\n",
    "plt.plot(timevalues, newp)\n",
    "plt.title(\"Dark Matter detector pulse\", size=12)\n",
    "plt.xlabel(\"Time [ns]\", size=12)\n",
    "plt.ylabel(\"Bias [mV]\", size=12)\n",
    "plt.plot(timevalues, pulse(timevalues,fP[0],fP[1],fP[2],fP[3],fP[4],fP[5],fP[6]), \"r-\")\n",
    "plt.show()"
   ]
  },
  {
   "cell_type": "markdown",
   "metadata": {},
   "source": [
    "Changing the ratio parameter: Make a new pulse and have a look."
   ]
  },
  {
   "cell_type": "code",
   "execution_count": null,
   "metadata": {},
   "outputs": [],
   "source": [
    "ratio = 0.1\n",
    "pp = pulse(timevalues, scale, onset, baseline, ratio, taurise, taushort, taulong)\n",
    "\n",
    "plotpulse(timevalues, pp)"
   ]
  },
  {
   "cell_type": "markdown",
   "metadata": {},
   "source": [
    "This would be a pulse more typical of a background, electron scattering, event. Distinguishing this from the previous type of pulse is part of a typical dark matter direct detection experiment."
   ]
  },
  {
   "cell_type": "code",
   "execution_count": null,
   "metadata": {
    "collapsed": true
   },
   "outputs": [],
   "source": []
  }
 ],
 "metadata": {
  "kernelspec": {
   "display_name": "Python 3",
   "language": "python",
   "name": "python3"
  },
  "language_info": {
   "codemirror_mode": {
    "name": "ipython",
    "version": 3
   },
   "file_extension": ".py",
   "mimetype": "text/x-python",
   "name": "python",
   "nbconvert_exporter": "python",
   "pygments_lexer": "ipython3",
   "version": "3.7.4"
  }
 },
 "nbformat": 4,
 "nbformat_minor": 2
}
