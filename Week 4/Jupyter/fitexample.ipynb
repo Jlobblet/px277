{
 "cells": [
  {
   "cell_type": "markdown",
   "metadata": {},
   "source": [
    "### First fit example from script"
   ]
  },
  {
   "cell_type": "code",
   "execution_count": null,
   "metadata": {
    "collapsed": true
   },
   "outputs": [],
   "source": [
    "import numpy as np\n",
    "import matplotlib.pyplot as plt"
   ]
  },
  {
   "cell_type": "markdown",
   "metadata": {},
   "source": [
    "Create some artificial data, say temperature data in time. Let's have 500 Hz for 10 s."
   ]
  },
  {
   "cell_type": "code",
   "execution_count": null,
   "metadata": {
    "collapsed": true
   },
   "outputs": [],
   "source": [
    "xvalues = np.linspace(0, 10, 5000)\n",
    "tempdata = 12.0 * np.ones(len(xvalues))\n",
    "noisy = tempdata + 0.2 * tempdata * np.random.normal(size=len(tempdata))"
   ]
  },
  {
   "cell_type": "markdown",
   "metadata": {},
   "source": [
    "Let's draw the noisy data"
   ]
  },
  {
   "cell_type": "code",
   "execution_count": null,
   "metadata": {},
   "outputs": [],
   "source": [
    "plt.title(\"Artificial temperature data\")\n",
    "plt.xlabel(\"time [s]\")\n",
    "plt.ylabel(\"temperature [C]\")\n",
    "plt.plot(xvalues, noisy)\n",
    "plt.show()"
   ]
  },
  {
   "cell_type": "markdown",
   "metadata": {},
   "source": [
    "Now fit a line to this data set. That tests for a linear trend or absence of."
   ]
  },
  {
   "cell_type": "code",
   "execution_count": null,
   "metadata": {},
   "outputs": [],
   "source": [
    "best, cov = np.polyfit(xvalues, noisy, 1, cov=True)\n",
    "print(\"best fit: \", best)\n",
    "print(\"covariance matrix:\")\n",
    "print(cov)"
   ]
  },
  {
   "cell_type": "markdown",
   "metadata": {},
   "source": [
    "Looking at the variations in the data, plot a histogram to see how they behave."
   ]
  },
  {
   "cell_type": "code",
   "execution_count": null,
   "metadata": {},
   "outputs": [],
   "source": [
    "H = plt.hist(noisy, 20)\n",
    "values = H[0]\n",
    "bins = H[1]\n",
    "plt.title(\"Temperature histogram\")\n",
    "plt.xlabel(\"temperature [C]\")\n",
    "plt.ylabel(\"counts\")\n",
    "plt.show()"
   ]
  },
  {
   "cell_type": "markdown",
   "metadata": {},
   "source": [
    "That histogram can be fit with a more complicated function than a polynomial, say a Gaussian curve. Use SciPy `curve_fit()`."
   ]
  },
  {
   "cell_type": "code",
   "execution_count": null,
   "metadata": {},
   "outputs": [],
   "source": [
    "import math\n",
    "def gaussian(data, total, position, width):\n",
    "    \"\"\"Gaussian function, working with numpy arrays\n",
    "    Parameters:\n",
    "    -----------\n",
    "    total: float integral of the Gaussian\n",
    "    position: float mean position of the peak\n",
    "    width: float standard deviation of the Gaussian curve\n",
    "    Returns:\n",
    "    --------\n",
    "    float equal to evaluation of Gaussian expression\n",
    "    \"\"\"\n",
    "    term = -0.5 * ((data - position) ** 2 / width ** 2)\n",
    "    return total / (math.sqrt(2 * math.pi) * width) * np.exp(term)\n"
   ]
  },
  {
   "cell_type": "code",
   "execution_count": null,
   "metadata": {},
   "outputs": [],
   "source": [
    "from scipy.optimize import curve_fit\n",
    "step = bins[1] - bins[0]\n",
    "binmid = np.array([(bins[0] + step/2.0 + i * step) for i in range(len(bins)-1)])\n",
    "bestfit, gausscov = curve_fit(gaussian, binmid, values)\n",
    "print(bestfit)"
   ]
  },
  {
   "cell_type": "markdown",
   "metadata": {
    "collapsed": true
   },
   "source": [
    "See how that looks like on the histogram."
   ]
  },
  {
   "cell_type": "code",
   "execution_count": null,
   "metadata": {},
   "outputs": [],
   "source": [
    "H = plt.hist(noisy,20)\n",
    "plt.plot(binmid, gaussian(binmid, bestfit[0], bestfit[1], bestfit[2]))\n",
    "plt.title(\"Temperature histogram\")\n",
    "plt.xlabel(\"temperature [C]\")\n",
    "plt.ylabel(\"counts\")\n",
    "plt.show()"
   ]
  },
  {
   "cell_type": "code",
   "execution_count": null,
   "metadata": {
    "collapsed": true
   },
   "outputs": [],
   "source": []
  }
 ],
 "metadata": {
  "kernelspec": {
   "display_name": "Python 3",
   "language": "python",
   "name": "python3"
  },
  "language_info": {
   "codemirror_mode": {
    "name": "ipython",
    "version": 3
   },
   "file_extension": ".py",
   "mimetype": "text/x-python",
   "name": "python",
   "nbconvert_exporter": "python",
   "pygments_lexer": "ipython3",
   "version": "3.7.4"
  }
 },
 "nbformat": 4,
 "nbformat_minor": 1
}
