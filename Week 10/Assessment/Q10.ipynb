{
 "cells": [
  {
   "cell_type": "markdown",
   "metadata": {},
   "source": [
    "Before you turn this problem in, make sure everything runs as expected. First, **restart the kernel** (in the menubar, select Kernel$\\rightarrow$Restart) and then **run all cells** (in the menubar, select Cell$\\rightarrow$Run All).\n",
    "\n",
    "Make sure you fill in any place that says `YOUR CODE HERE` or \"YOUR ANSWER HERE\".\n",
    "\n",
    "Do not edit or insert code into the test cells as all you insert will be overwritten by the automated testing code."
   ]
  },
  {
   "cell_type": "markdown",
   "metadata": {},
   "source": [
    "---"
   ]
  },
  {
   "cell_type": "markdown",
   "metadata": {
    "deletable": false,
    "editable": false,
    "nbgrader": {
     "checksum": "b1f4c70196ec768abe7a5b0fc01108e1",
     "grade": false,
     "grade_id": "cell-f5832f6e528e49fc",
     "locked": true,
     "schema_version": 1,
     "solution": false
    }
   },
   "source": [
    "**Question 10**: Pinball scattering is a purely Newtonian equations of motion exercise without feedback or random numbers but showing chaotic behaviour regardless.\n",
    "\n",
    "Consider the potential $$V(x,y)=x^{2}\\,y^{2}\\,e^{-\\left(x^{2}+y^{2}\\right)}$$ (all terms dimensionless) with four maxima centred at $x=\\pm{}1$ and $y=\\pm{}1$, respectively. It is defined as a repulsive potential for any test particle (the pinball) moving through that potential. The equations of motion to solve hence are $$\\frac{d^{2}x(t)}{dt^{2}} = -2.0\\,y^{2}\\,x\\,(1-x^{2})\\,e^{-\\left(x^{2}+y^{2}\\right)}$$ and $$\\frac{d^{2}y(t)}{dt^{2}} = -2.0\\,x^{2}\\,y\\,(1-y^{2})\\,e^{-\\left(x^{2}+y^{2}\\right)}.$$\n",
    "\n",
    "**Task**: Solve these two coupled ODE's in stages: \n",
    "\n",
    "**(a)** write a function `trajectory(impactpar, speed)` which takes the impact parameter, $x(0)$, as input as well as the speed $v_{y}$ for initial conditions (impact parameter$=x(0)$, $v_{x}=\\frac{dx(0)}{dt}$, $y(0)$ and $v_{y}=\\frac{dy(0)}{dt}$ in that order). Calculate the time array to solve for from `np.linspace(0,maxtime,300)` where `maxtime` works well as `10 / speed`. The function shall return the trajectory, i.e. the arrays of solved x(t) and y(t) separately. **Plot** a trajectory of your choice, see below, with appropriate axes labels.\n",
    "\n",
    "As initial values, fix $v_{x}=\\frac{dx(0)}{dt}=0.0$ and $y(0)=-2$ (away from the potential in $y$). The range of sensible initial values for $x(0)$, should be between $-0.9\\leq{}x(0)\\leq{}0.9$ but values around $0.1-0.2$ are quite interesting to observe. Likewise, pick a kinetic energy in form of an initial speed $0<v_{y}=\\frac{dy(0)}{dt}\\leq{}0.5$.\n",
    "\n",
    "**(b)** Write a function `scatterangles(allb, speed)` which takes an array of impact parameter from the interval $[-0.2, 0.2]$ with a step size of 0.001 as input as well as a speed value. Loop over the impact parameter values, solve the ODE's and determine the scatter angle. Again, as initial values, fix $v_{x}=\\frac{dx(0)}{dt}=0.0$ and $y(0)=-2$. Fix the speed input value at $v_{y}=0.1$ when calling the `scatterangles(allb, speed)` function before plotting the result, see below.\n",
    "\n",
    "That scatter angle is determined from the final value of velocity components, i.e. $\\theta=\\tan^{-1}(v_{y}/v_{x})$ at the maximum time value. Store the scatter angle at each loop iteration and return it as an array. **Plot** the scatter angle as a function of impact parameter with appropriate axes labels. Note that the imported python math function `atan2(y,x)` has the correct and safe return range of $-\\pi\\leq{}\\theta\\leq{}\\pi$ since backscattering of the pinball can and will take place."
   ]
  },
  {
   "cell_type": "code",
   "execution_count": 1,
   "metadata": {
    "ExecuteTime": {
     "end_time": "2019-12-03T17:19:20.974314Z",
     "start_time": "2019-12-03T17:19:20.352286Z"
    },
    "deletable": false,
    "nbgrader": {
     "checksum": "a9301c66dbf1c6c3ccbb702eee7bc1c9",
     "grade": false,
     "grade_id": "Q10CodeA",
     "locked": false,
     "schema_version": 1,
     "solution": true
    }
   },
   "outputs": [
    {
     "data": {
      "image/png": "[encoded data removed]",
      "text/plain": [
       "<Figure size 576x396 with 1 Axes>"
      ]
     },
     "metadata": {},
     "output_type": "display_data"
    }
   ],
   "source": [
    "%matplotlib inline\n",
    "import numpy as np\n",
    "from scipy.integrate import odeint\n",
    "import matplotlib.pyplot as plt\n",
    "\n",
    "initial_speed = 0.2\n",
    "initial_x = -0.2\n",
    "impact_parameters = np.array((initial_x, 0, -2))\n",
    "\n",
    "\n",
    "def ode(t, y):\n",
    "    f_0 = y[1]\n",
    "    f_1 = - 2 * y[0] * y[2] ** 2 * (1 - y[0] ** 2) * np.exp(-(y[0] ** 2 + y[2] ** 2))\n",
    "    f_2 = y[3]\n",
    "    f_3 = - 2 * y[0] ** 2 * y[2] * (1 - y[2] ** 2) * np.exp(-(y[0] ** 2 + y[2] ** 2))\n",
    "    return np.array((f_0, f_1, f_2, f_3))\n",
    "\n",
    "\n",
    "def trajectory(impactpar, speed):\n",
    "    time_values = np.linspace(0, 10 / speed, 300)\n",
    "    initial_conditions = np.append(impactpar, speed)\n",
    "    solved = odeint(ode, initial_conditions, time_values, tfirst=True)\n",
    "    return solved[:, 0], solved[:, 2]\n",
    "\n",
    "\n",
    "plt.style.use(\"seaborn\")\n",
    "xvals, yvals = trajectory(impact_parameters, initial_speed)\n",
    "fig, ax = plt.subplots()\n",
    "ax.plot(xvals, yvals)\n",
    "ax.set_xlabel(\"$x$ / $m$\")\n",
    "ax.set_ylabel(\"$y$ / $m$\")\n",
    "ax.set_title(\"Trajectory\")\n",
    "plt.show()\n"
   ]
  },
  {
   "cell_type": "code",
   "execution_count": null,
   "metadata": {
    "ExecuteTime": {
     "end_time": "2019-12-03T17:19:11.373935Z",
     "start_time": "2019-12-03T17:19:11.370611Z"
    },
    "deletable": false,
    "nbgrader": {
     "checksum": "7ddb3afd5f524a2ef68db1f687e751e5",
     "grade": false,
     "grade_id": "Q10CodeB",
     "locked": false,
     "schema_version": 1,
     "solution": true
    }
   },
   "outputs": [],
   "source": [
    "# Solution to part (b)\n",
    "# YOUR CODE HERE"
   ]
  },
  {
   "cell_type": "code",
   "execution_count": null,
   "metadata": {
    "ExecuteTime": {
     "end_time": "2019-12-03T17:19:11.461170Z",
     "start_time": "2019-12-03T17:19:11.378885Z"
    },
    "deletable": false,
    "editable": false,
    "nbgrader": {
     "checksum": "118756de7fdcb508030de9009541ea62",
     "grade": true,
     "grade_id": "Q10TestA",
     "locked": true,
     "points": 2,
     "schema_version": 1,
     "solution": false
    }
   },
   "outputs": [],
   "source": [
    "# Test cell\n",
    "speed = 0.1\n",
    "b = 0.15\n",
    "xoft, yoft = trajectory(b, speed)\n",
    "assert (xoft[1]>0.145 and xoft[1]<0.149), 'wrong x(t)'\n",
    "assert (yoft[1]>-1.97 and yoft[1]<-1.96), 'wrong y(t)'"
   ]
  },
  {
   "cell_type": "code",
   "execution_count": null,
   "metadata": {
    "ExecuteTime": {
     "end_time": "2019-12-03T17:19:11.466909Z",
     "start_time": "2019-12-03T17:19:09.635Z"
    },
    "deletable": false,
    "editable": false,
    "nbgrader": {
     "checksum": "977da156dd7d7534171e72f4d24968d4",
     "grade": true,
     "grade_id": "Q10TestB",
     "locked": true,
     "points": 1,
     "schema_version": 1,
     "solution": false
    }
   },
   "outputs": [],
   "source": [
    "# Test cell\n",
    "angle = scatterangles(np.array([b]), speed)\n",
    "assert (angle[0]>2.8 and angle[0]<2.9), 'wrong scatter angle'"
   ]
  },
  {
   "cell_type": "markdown",
   "metadata": {
    "deletable": false,
    "editable": false,
    "nbgrader": {
     "checksum": "eb6d368030628a357beda2e1816af889",
     "grade": false,
     "grade_id": "cell-f3b4bf84f31ebb9d",
     "locked": true,
     "schema_version": 1,
     "solution": false
    }
   },
   "source": [
    "### Tests 3 marks; Style 1 mark; Plots - 3 marks"
   ]
  }
 ],
 "metadata": {
  "kernelspec": {
   "display_name": "Python 3",
   "language": "python",
   "name": "python3"
  },
  "language_info": {
   "codemirror_mode": {
    "name": "ipython",
    "version": 3
   },
   "file_extension": ".py",
   "mimetype": "text/x-python",
   "name": "python",
   "nbconvert_exporter": "python",
   "pygments_lexer": "ipython3",
   "version": "3.6.9"
  },
  "varInspector": {
   "cols": {
    "lenName": 16,
    "lenType": 16,
    "lenVar": 40
   },
   "kernels_config": {
    "python": {
     "delete_cmd_postfix": "",
     "delete_cmd_prefix": "del ",
     "library": "var_list.py",
     "varRefreshCmd": "print(var_dic_list())"
    },
    "r": {
     "delete_cmd_postfix": ") ",
     "delete_cmd_prefix": "rm(",
     "library": "var_list.r",
     "varRefreshCmd": "cat(var_dic_list()) "
    }
   },
   "types_to_exclude": [
    "module",
    "function",
    "builtin_function_or_method",
    "instance",
    "_Feature"
   ],
   "window_display": false
  }
 },
 "nbformat": 4,
 "nbformat_minor": 2
}
