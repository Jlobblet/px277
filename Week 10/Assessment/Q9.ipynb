{
 "cells": [
  {
   "cell_type": "markdown",
   "metadata": {},
   "source": [
    "Before you turn this problem in, make sure everything runs as expected. First, **restart the kernel** (in the menubar, select Kernel$\\rightarrow$Restart) and then **run all cells** (in the menubar, select Cell$\\rightarrow$Run All).\n",
    "\n",
    "Make sure you fill in any place that says `YOUR CODE HERE` or \"YOUR ANSWER HERE\".\n",
    "\n",
    "Do not edit or insert code into the test cells as all you insert will be overwritten by the automated testing code."
   ]
  },
  {
   "cell_type": "markdown",
   "metadata": {},
   "source": [
    "---"
   ]
  },
  {
   "cell_type": "markdown",
   "metadata": {
    "deletable": false,
    "editable": false,
    "nbgrader": {
     "checksum": "c5de8d57e8310448b1e346fec4f4dbca",
     "grade": false,
     "grade_id": "cell-12e0d628ed2b8f01",
     "locked": true,
     "schema_version": 1,
     "solution": false
    }
   },
   "source": [
    "**Question 9**: One challenge in astronomy is to find the trajectory of a light object in the presence of two much heavier bodies whose motion is not influenced by the light object. The typical case would be the motion of a satellite in the Earth-Moon system.\n",
    "\n",
    "If all three objects move in the $x-y$ plane, the motion of the light object is described by dimensionless, second-order  ODE's $$\\frac{d^{2}x(t)}{dt^{2}}=x(t)+2\\,\\frac{dy(t)}{dt}-\\frac{(1-\\mu)\\,(x(t)+\\mu)}{r^{3}}-\\frac{\\mu\\,(x(t)-1+\\mu)}{s^{3}}$$ and $$\\frac{d^{2}y(t)}{dt^{2}}=y(t)-2\\,\\frac{dx(t)}{dt}-\\frac{(1-\\mu)\\,y(t)}{r^{3}}-\\frac{\\mu\\,y(t)}{s^{3}},$$ where $\\mu$ is the ratio of masses of the heavy objects, $x(t)$ and $y(t)$ are the coordinates of the light object and $$r=\\sqrt{(x(t)+\\mu)^{2}+y(t)^{2}}\\quad{};\\;s=\\sqrt{(x(t)-1+\\mu)^{2}+y(t)^{2}}.$$\n",
    "\n",
    "**Data**: Consider the time interval $0\\leq{}t\\leq{}18$ and $\\mu=0.012277471$ (Moon to Earth ratio) and initial conditions $x(0)=0.994$, $y(0)=0$, $\\frac{dx(t=0)}{dt}=0$ and $\\frac{dy(0)}{dt}=-2.0015851$.\n",
    "\n",
    "**Task**: Write a function `satellite(init, time, mu)` to solve the ODE's. The array of initial conditions, the time array and the parameter $\\mu$ shall be input to the function. Return the full output of the `odeint` function.\n",
    "\n",
    "Create three plots: **(a)** draw the trajectory coordinate $y(t)$ against $x(t)$, \n",
    "\n",
    "**(b)** draw both curves $x(t)$ and $y(t)$ as a function of time on the same plot with a legend and \n",
    "\n",
    "**(c)** draw the speeds $dy(t)/dt$ against $dx(t)/dt$. \n",
    "\n",
    "All figures should show appropriate axes labels and be drawn as a row$=1$, column$=3$ multi-figure plot."
   ]
  },
  {
   "cell_type": "code",
   "execution_count": null,
   "metadata": {
    "deletable": false,
    "nbgrader": {
     "checksum": "2775107e3fa66da1fd21ea9533e6264f",
     "grade": false,
     "grade_id": "Q9Code",
     "locked": false,
     "schema_version": 1,
     "solution": true
    }
   },
   "outputs": [],
   "source": [
    "# YOUR CODE HERE"
   ]
  },
  {
   "cell_type": "code",
   "execution_count": null,
   "metadata": {
    "deletable": false,
    "editable": false,
    "nbgrader": {
     "checksum": "1eb4df256a4acd9ce446162abaf65116",
     "grade": true,
     "grade_id": "Q9TestA",
     "locked": true,
     "points": 1,
     "schema_version": 1,
     "solution": false
    }
   },
   "outputs": [],
   "source": [
    "# Test cell\n",
    "mu = 0.01227471\n",
    "init = np.array([0.994, 0.0, 0.0, -2.0015851]) # x(0), dxdt(0), y(0), dydt(0)\n",
    "time = np.linspace(0, 18, 200)\n",
    "answer = satellite(init, time, mu)\n",
    "assert (answer[10,0]>0.4 and answer[10,0]<0.41), 'wrong x(t)'"
   ]
  },
  {
   "cell_type": "code",
   "execution_count": null,
   "metadata": {
    "deletable": false,
    "editable": false,
    "nbgrader": {
     "checksum": "df3dbed6d091dc706806b21f722bca58",
     "grade": true,
     "grade_id": "Q9TestB",
     "locked": true,
     "points": 2,
     "schema_version": 1,
     "solution": false
    }
   },
   "outputs": [],
   "source": [
    "# Test cell\n",
    "assert (answer[10,1]>-0.91 and answer[10,1]<-0.9), 'wrong speed in x'\n",
    "assert (answer[10,2]>0.28 and answer[10,2]<0.29), 'wrong y(t)'\n",
    "assert (answer[10,3]>0.7 and answer[10,3]<0.72), 'wrong speed in y'"
   ]
  },
  {
   "cell_type": "markdown",
   "metadata": {
    "deletable": false,
    "editable": false,
    "nbgrader": {
     "checksum": "e71c8d0ef3b1ef1dfca8a676cb4a9175",
     "grade": false,
     "grade_id": "cell-a9a0779963e29d86",
     "locked": true,
     "schema_version": 1,
     "solution": false
    }
   },
   "source": [
    "### Tests 3 marks; Style 1 mark; Plots - 3 marks"
   ]
  }
 ],
 "metadata": {
  "kernelspec": {
   "display_name": "Python 3",
   "language": "python",
   "name": "python3"
  },
  "language_info": {
   "codemirror_mode": {
    "name": "ipython",
    "version": 3
   },
   "file_extension": ".py",
   "mimetype": "text/x-python",
   "name": "python",
   "nbconvert_exporter": "python",
   "pygments_lexer": "ipython3",
   "version": "3.6.6"
  }
 },
 "nbformat": 4,
 "nbformat_minor": 2
}
